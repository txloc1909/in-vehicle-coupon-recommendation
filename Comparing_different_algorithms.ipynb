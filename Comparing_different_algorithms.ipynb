{
 "cells": [
  {
   "cell_type": "code",
   "execution_count": 1,
   "id": "9fa2a791",
   "metadata": {},
   "outputs": [
    {
     "name": "stdout",
     "output_type": "stream",
     "text": [
      "(12599, 59) (12599,)\n"
     ]
    }
   ],
   "source": [
    "import pandas as pd\n",
    "import numpy as np\n",
    "from numpy.random import RandomState\n",
    "import matplotlib.pyplot as plt\n",
    "from tqdm import tqdm\n",
    "\n",
    "seed = 42\n",
    "rng = RandomState(seed)\n",
    "\n",
    "df = pd.read_csv('./dataset/preprocessed.csv')\n",
    "\n",
    "X, y = df.iloc[:, :-1], df.iloc[:, -1]\n",
    "print(X.shape, y.shape)"
   ]
  },
  {
   "cell_type": "code",
   "execution_count": 2,
   "id": "157e6537",
   "metadata": {},
   "outputs": [
    {
     "name": "stdout",
     "output_type": "stream",
     "text": [
      "Train set:  (10079, 59) (10079,)\n",
      "Test set:  (2520, 59) (2520,)\n"
     ]
    }
   ],
   "source": [
    "from sklearn.model_selection import train_test_split, cross_val_score\n",
    "\n",
    "X_train, X_test, y_train, y_test = train_test_split(X, y,\n",
    "                                                    test_size=0.2, \n",
    "                                                    random_state=seed)\n",
    "print('Train set: ', X_train.shape, y_train.shape)\n",
    "print('Test set: ', X_test.shape, y_test.shape)"
   ]
  },
  {
   "cell_type": "code",
   "execution_count": 3,
   "id": "02b7dab4",
   "metadata": {},
   "outputs": [],
   "source": [
    "# Fill missing values\n",
    "from sklearn.impute import SimpleImputer\n",
    "\n",
    "imputer = SimpleImputer(strategy='most_frequent')\n",
    "X_train = imputer.fit_transform(X_train)\n",
    "X_test = imputer.transform(X_test)"
   ]
  },
  {
   "cell_type": "code",
   "execution_count": 4,
   "id": "afc0cd1a",
   "metadata": {},
   "outputs": [
    {
     "data": {
      "text/plain": [
       "SVC(C=15.0)"
      ]
     },
     "execution_count": 4,
     "metadata": {},
     "output_type": "execute_result"
    }
   ],
   "source": [
    "# Train decision tree, random forest & SVM with their best params\n",
    "from sklearn.tree import DecisionTreeClassifier\n",
    "from sklearn.ensemble import RandomForestClassifier\n",
    "from sklearn.svm import SVC\n",
    "\n",
    "dt = DecisionTreeClassifier(criterion='entropy', max_depth=5, \n",
    "                            random_state=rng)\n",
    "rf = RandomForestClassifier(criterion='entropy', n_estimators=100, \n",
    "                            random_state=rng)\n",
    "sv = SVC(kernel='rbf', C=15.0)\n",
    "\n",
    "dt.fit(X_train, y_train)\n",
    "rf.fit(X_train, y_train)\n",
    "sv.fit(X_train, y_train)"
   ]
  },
  {
   "cell_type": "code",
   "execution_count": 5,
   "id": "695a21ef",
   "metadata": {},
   "outputs": [],
   "source": [
    "dt_pred = dt.predict(X_test)\n",
    "rf_pred = rf.predict(X_test)\n",
    "sv_pred = sv.predict(X_test)"
   ]
  },
  {
   "cell_type": "code",
   "execution_count": 6,
   "id": "5fb888e1",
   "metadata": {},
   "outputs": [
    {
     "name": "stdout",
     "output_type": "stream",
     "text": [
      "Decision tree acc: 0.672222\n",
      "Random forest acc: 0.751190\n",
      "SVM acc: 0.747222\n",
      "\n",
      "Decision tree AUC: 0.648482\n",
      "Random forest AUC: 0.741907\n",
      "SVM AUC: 0.737471\n"
     ]
    }
   ],
   "source": [
    "from sklearn.metrics import accuracy_score, roc_auc_score, plot_confusion_matrix\n",
    "\n",
    "dt_acc = accuracy_score(y_test, dt_pred)\n",
    "rf_acc = accuracy_score(y_test, rf_pred)\n",
    "sv_acc = accuracy_score(y_test, sv_pred)\n",
    "\n",
    "dt_auc = roc_auc_score(y_test, dt_pred)\n",
    "rf_auc = roc_auc_score(y_test, rf_pred)\n",
    "sv_auc = roc_auc_score(y_test, sv_pred)\n",
    "\n",
    "print('Decision tree acc: %.6f' % dt_acc)\n",
    "print('Random forest acc: %.6f' % rf_acc)\n",
    "print('SVM acc: %.6f' % sv_acc)\n",
    "print()\n",
    "print('Decision tree AUC: %.6f' % dt_auc)\n",
    "print('Random forest AUC: %.6f' % rf_auc)\n",
    "print('SVM AUC: %.6f' % sv_auc)"
   ]
  },
  {
   "cell_type": "code",
   "execution_count": 7,
   "id": "576ccbd9",
   "metadata": {},
   "outputs": [
    {
     "data": {
      "text/plain": [
       "<sklearn.metrics._plot.confusion_matrix.ConfusionMatrixDisplay at 0x7f2b0c6ab2e8>"
      ]
     },
     "execution_count": 7,
     "metadata": {},
     "output_type": "execute_result"
    },
    {
     "data": {
      "image/png": "[encoded data removed]",
      "text/plain": [
       "<Figure size 432x288 with 2 Axes>"
      ]
     },
     "metadata": {
      "needs_background": "light"
     },
     "output_type": "display_data"
    }
   ],
   "source": [
    "plot_confusion_matrix(dt, X_test, y_test)"
   ]
  },
  {
   "cell_type": "code",
   "execution_count": 8,
   "id": "fdc2e7d6",
   "metadata": {},
   "outputs": [
    {
     "data": {
      "text/plain": [
       "<sklearn.metrics._plot.confusion_matrix.ConfusionMatrixDisplay at 0x7f2a8a43cc50>"
      ]
     },
     "execution_count": 8,
     "metadata": {},
     "output_type": "execute_result"
    },
    {
     "data": {
      "image/png": "[encoded data removed]",
      "text/plain": [
       "<Figure size 432x288 with 2 Axes>"
      ]
     },
     "metadata": {
      "needs_background": "light"
     },
     "output_type": "display_data"
    }
   ],
   "source": [
    "plot_confusion_matrix(rf, X_test, y_test)"
   ]
  },
  {
   "cell_type": "code",
   "execution_count": 9,
   "id": "21b029ca",
   "metadata": {},
   "outputs": [
    {
     "data": {
      "text/plain": [
       "<sklearn.metrics._plot.confusion_matrix.ConfusionMatrixDisplay at 0x7f2a8a489cf8>"
      ]
     },
     "execution_count": 9,
     "metadata": {},
     "output_type": "execute_result"
    },
    {
     "data": {
      "image/png": "[encoded data removed]",
      "text/plain": [
       "<Figure size 432x288 with 2 Axes>"
      ]
     },
     "metadata": {
      "needs_background": "light"
     },
     "output_type": "display_data"
    }
   ],
   "source": [
    "plot_confusion_matrix(sv, X_test, y_test)"
   ]
  },
  {
   "cell_type": "code",
   "execution_count": 10,
   "id": "540b8fb8",
   "metadata": {},
   "outputs": [],
   "source": [
    "coupon_type = ['Bar', 'Carry out & Take away', 'Coffee House', \n",
    "               'Restaurant(<20)', 'Restaurant(20-50)']\n",
    "datasets = {}\n",
    "for type_name in coupon_type:\n",
    "    column_name = 'coupon_' + type_name\n",
    "    data = df[df[column_name] == 1].copy()\n",
    "    X, y = data.iloc[:, :-1], data.iloc[:, -1]\n",
    "    \n",
    "    # fill missing value\n",
    "    X[:] = imputer.transform(X)\n",
    "    \n",
    "    X = X.drop(columns=['coupon_'+type_name for type_name in coupon_type])\n",
    "    \n",
    "    datasets[type_name] = (X, y)"
   ]
  },
  {
   "cell_type": "code",
   "execution_count": 11,
   "id": "1de78adf",
   "metadata": {
    "scrolled": true
   },
   "outputs": [
    {
     "name": "stdout",
     "output_type": "stream",
     "text": [
      "--- DT ---\n",
      "Bar                      : 0.715(0.028)\n",
      "Carry out & Take away    : 0.576(0.051)\n",
      "Coffee House             : 0.707(0.050)\n",
      "Restaurant(<20)          : 0.538(0.130)\n",
      "Restaurant(20-50)        : 0.584(0.057)\n",
      "--- RF ---\n",
      "Bar                      : 0.712(0.029)\n",
      "Carry out & Take away    : 0.627(0.069)\n",
      "Coffee House             : 0.702(0.060)\n",
      "Restaurant(<20)          : 0.518(0.138)\n",
      "Restaurant(20-50)        : 0.589(0.035)\n",
      "--- SVM ---\n",
      "Bar                      : 0.700(0.026)\n",
      "Carry out & Take away    : 0.614(0.055)\n",
      "Coffee House             : 0.691(0.043)\n",
      "Restaurant(<20)          : 0.566(0.063)\n",
      "Restaurant(20-50)        : 0.583(0.012)\n"
     ]
    }
   ],
   "source": [
    "# Cross validation on different type of coupon\n",
    "# to compare with Bayesian rule sets\n",
    "# from paper: https://jmlr.org/papers/v18/16-003.html\n",
    "\n",
    "from sklearn.model_selection import cross_val_score\n",
    "from sklearn.impute import SimpleImputer\n",
    "\n",
    "estimators = [\n",
    "    DecisionTreeClassifier(criterion='entropy', max_depth=5, \n",
    "                           random_state=rng),\n",
    "    RandomForestClassifier(criterion='entropy', n_estimators=100,\n",
    "                           random_state=rng),\n",
    "    SVC(kernel='rbf', C=15.0)\n",
    "]\n",
    "\n",
    "for name, estimator in zip(['DT', 'RF', 'SVM'], estimators):\n",
    "    print('---', name, '---')\n",
    "    for coupon_type in datasets:\n",
    "        X, y = datasets[coupon_type]\n",
    "        scores = cross_val_score(\n",
    "            estimator, X, y, cv=5, n_jobs=-1, scoring='roc_auc'\n",
    "        )\n",
    "        mean = scores.mean()\n",
    "        std = scores.std()\n",
    "        print('%-25s: %.3f(%.3f)' % (coupon_type, mean, std))\n",
    "        "
   ]
  },
  {
   "cell_type": "code",
   "execution_count": null,
   "id": "73cf9fb9",
   "metadata": {},
   "outputs": [],
   "source": []
  }
 ],
 "metadata": {
  "kernelspec": {
   "display_name": "Python 3",
   "language": "python",
   "name": "python3"
  },
  "language_info": {
   "codemirror_mode": {
    "name": "ipython",
    "version": 3
   },
   "file_extension": ".py",
   "mimetype": "text/x-python",
   "name": "python",
   "nbconvert_exporter": "python",
   "pygments_lexer": "ipython3",
   "version": "3.6.9"
  }
 },
 "nbformat": 4,
 "nbformat_minor": 5
}
